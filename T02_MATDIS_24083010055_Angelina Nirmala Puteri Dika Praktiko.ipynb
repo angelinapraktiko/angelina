{
  "nbformat": 4,
  "nbformat_minor": 0,
  "metadata": {
    "colab": {
      "provenance": []
    },
    "kernelspec": {
      "name": "python3",
      "display_name": "Python 3"
    },
    "language_info": {
      "name": "python"
    }
  },
  "cells": [
    {
      "cell_type": "markdown",
      "source": [
        "Nama  : Angelina Nirmala Puteri Dika Praktiko\n",
        "\n",
        "NPM   : 24083010055"
      ],
      "metadata": {
        "id": "joqI9dmFvzwf"
      }
    },
    {
      "cell_type": "code",
      "execution_count": null,
      "metadata": {
        "id": "aF_2Gzgxp7ax"
      },
      "outputs": [],
      "source": [
        "#tentukan jangka bilangan bulat (n berapa saja) yang valid untuk pernyataan dibawah ini\n",
        "# 1+3+5+...+(2n-1) = n^2  (n≥0)\n",
        "# 1+2+2^2+...+2^n = 2^n+1 - 1   (n≥0)\n",
        "#1^2 + 2^2 =#^2 + ... + n^2 = n(n+1)(2n+1)/6   (n≥0)\n",
        "#n! ≥ 2^n-1  (n bebas)\n",
        "#2^n > n^2   (n bebas)"
      ]
    },
    {
      "cell_type": "markdown",
      "source": [
        "### 1+3+5+...+(2n-1) = n^2  (n≥0)"
      ],
      "metadata": {
        "id": "Kme6KAW5lPdk"
      }
    },
    {
      "cell_type": "code",
      "source": [
        "def sisikiri(n):\n",
        "    jumlah = 0\n",
        "    for i in range(1, n+1):   # ambil n bilangan ganjil pertama\n",
        "        jumlah += 2*i - 1\n",
        "    return jumlah\n",
        "\n",
        "def sisikanan(n):\n",
        "    return n**2\n",
        "\n",
        "for n in range(0, 11):\n",
        "    kiri = sisikiri(n)\n",
        "    kanan = sisikanan(n)\n",
        "    print(f\"n={n}, iteratif={kiri}, rumus={kanan}, sama? {kiri==kanan}\")\n"
      ],
      "metadata": {
        "colab": {
          "base_uri": "https://localhost:8080/"
        },
        "id": "xjcaD8G3Rzfu",
        "outputId": "de668b52-9711-4440-8dc4-9f46bece0a7f"
      },
      "execution_count": 14,
      "outputs": [
        {
          "output_type": "stream",
          "name": "stdout",
          "text": [
            "n=0, iteratif=0, rumus=0, sama? True\n",
            "n=1, iteratif=1, rumus=1, sama? True\n",
            "n=2, iteratif=4, rumus=4, sama? True\n",
            "n=3, iteratif=9, rumus=9, sama? True\n",
            "n=4, iteratif=16, rumus=16, sama? True\n",
            "n=5, iteratif=25, rumus=25, sama? True\n",
            "n=6, iteratif=36, rumus=36, sama? True\n",
            "n=7, iteratif=49, rumus=49, sama? True\n",
            "n=8, iteratif=64, rumus=64, sama? True\n",
            "n=9, iteratif=81, rumus=81, sama? True\n",
            "n=10, iteratif=100, rumus=100, sama? True\n"
          ]
        }
      ]
    },
    {
      "cell_type": "markdown",
      "source": [
        "Hasil perhitungan menunjukkan bahwa jumlah n bilangan ganjil pertama selalu sama dengan n^2. Pada perhitungan iteratif, bilangan ganjil dijumlahkan satu per satu, contohnya pada sisi kanan jika n = 4, maka 1+3+5+7 = 16, pada sisi kirinya hasilnya menjadi 4^2 = 16. Karena hasil keduanya sama untuk setiap nilai n maka terbukti bahwa 1+3+5+...+(2n-1) = n^2"
      ],
      "metadata": {
        "id": "ELV_7ZJRekfi"
      }
    },
    {
      "cell_type": "markdown",
      "source": [
        "###2^n > n^2   (n bebas)"
      ],
      "metadata": {
        "id": "fBZewY4wlYhZ"
      }
    },
    {
      "cell_type": "code",
      "source": [
        "def sisi_kiri(n):\n",
        "    # 2^n\n",
        "    return 2**n\n",
        "\n",
        "def sisi_kanan(n):\n",
        "    # n^2\n",
        "    return n**2\n",
        "\n",
        "# cek untuk n -5 sampai 20\n",
        "print(f\"{'n':>3} {'2^n':>10} {'n^2':>10} {'2^n>n^2?':>10}\")\n",
        "for n in range(-5, 21):\n",
        "    kiri = sisi_kiri(n)\n",
        "    kanan = sisi_kanan(n)\n",
        "    print(f\"{n:3} {kiri:10} {kanan:10} {str(kiri>kanan):>10}\")\n"
      ],
      "metadata": {
        "colab": {
          "base_uri": "https://localhost:8080/"
        },
        "id": "es_78zx_R0Y4",
        "outputId": "2ba87c87-87da-4278-a1d3-e9fbde55cc66"
      },
      "execution_count": 12,
      "outputs": [
        {
          "output_type": "stream",
          "name": "stdout",
          "text": [
            "  n        2^n        n^2   2^n>n^2?\n",
            " -5    0.03125         25      False\n",
            " -4     0.0625         16      False\n",
            " -3      0.125          9      False\n",
            " -2       0.25          4      False\n",
            " -1        0.5          1      False\n",
            "  0          1          0       True\n",
            "  1          2          1       True\n",
            "  2          4          4      False\n",
            "  3          8          9      False\n",
            "  4         16         16      False\n",
            "  5         32         25       True\n",
            "  6         64         36       True\n",
            "  7        128         49       True\n",
            "  8        256         64       True\n",
            "  9        512         81       True\n",
            " 10       1024        100       True\n",
            " 11       2048        121       True\n",
            " 12       4096        144       True\n",
            " 13       8192        169       True\n",
            " 14      16384        196       True\n",
            " 15      32768        225       True\n",
            " 16      65536        256       True\n",
            " 17     131072        289       True\n",
            " 18     262144        324       True\n",
            " 19     524288        361       True\n",
            " 20    1048576        400       True\n"
          ]
        }
      ]
    },
    {
      "cell_type": "markdown",
      "source": [
        "Syarat dari bilangan bulatnya adalah 2^n > n^2. Maka jika dilohat dari outputnya n=0 dan n-1, nilai 2^n lebih besar daripada n^2 sehingga menghasilkan True. Namun jika n = 2, n=3, dan n=4, pertidaksamaan tidak terpenuhi karena hasilnya sama atau lebih kecil. Jadi mulai dari n=5 dan seterusnya, pertidaksamaan selalu True. Sehingga didapat kesimpulan jika pernyataan 2^n > n^2 hanya berlaku untuk n=0 dan n= 1 serta semua n≥5. Untuk bilangan bulat negatif dan n = 2, n=3, dan n=4 pernyatannya tidak berlaku"
      ],
      "metadata": {
        "id": "wU4scnyQnLrW"
      }
    }
  ]
}